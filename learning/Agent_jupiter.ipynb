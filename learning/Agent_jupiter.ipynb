{
 "cells": [
  {
   "cell_type": "code",
   "execution_count": 2,
   "metadata": {
    "scrolled": true
   },
   "outputs": [
    {
     "name": "stdout",
     "output_type": "stream",
     "text": [
      "<상수>\n",
      "교통정체 발생율 = 0.02 \n",
      "도로 길이 = 2000 \n",
      "신호등 간격 = 250 \n",
      "차 개수 = 100 \n",
      "차간 안전거리 = 5 \n",
      "(차)최대 속도 = 3\n",
      "\n",
      "\n",
      "1을 누르면 상수를 변경하며, 1이 아닌 아무 문자를 입력하면 위 상수로 실행합니다\t: f\n"
     ]
    }
   ],
   "source": [
    "import numpy as np\n",
    "import random\n",
    "import Enviroment\n",
    "from collections import defaultdict"
   ]
  },
  {
   "cell_type": "code",
   "execution_count": 3,
   "metadata": {},
   "outputs": [],
   "source": [
    "class Q_Agent :\n",
    "    def __init__ (self, actions) :\n",
    "        self.actions = actions\n",
    "        self.step_size = 0.1\n",
    "        self.discount_factor = 0.75\n",
    "        self.epsilon = 0.75\n",
    "        self.q_table = defaultdict(lambda : [0.0, 0.0, 0.0, 0.0, 0.0, 0.0, 0.0])\n",
    "        \n",
    "    def learn (self, state, action, reward, next_state) :\n",
    "        state, next_state = str(state), str(next_state)\n",
    "        q_1 = self.q_table[state][action]\n",
    "        q_2 = reward + self.discount_factor * max(self.q_table[next_state])\n",
    "        self.qtable[state][action] += self.step_size * (q_2 - q_1)\n",
    "        \n",
    "    def get_action (self, state) :\n",
    "        if np.random.rand() < self.epsilon :\n",
    "            action = np.random.choice(self.actions)\n",
    "        else :\n",
    "            state = str(state)\n",
    "            q_list = self.q_table[state]\n",
    "            action = arg_max(q_list)\n",
    "        return action"
   ]
  },
  {
   "cell_type": "code",
   "execution_count": null,
   "metadata": {},
   "outputs": [],
   "source": [
    "def arg_max (q_list) :\n",
    "    max_idx_list = np.argwhere(q_list == np.amax(q_list))\n",
    "    max_idx_list = max_idx_list.flatten().tolist()\n",
    "    return random.choice(max_idx_list)"
   ]
  },
  {
   "cell_type": "code",
   "execution_count": null,
   "metadata": {},
   "outputs": [],
   "source": [
    "if __name__ == \"__main__\" :\n",
    "    env = Enviroment.Env()\n",
    "    "
   ]
  }
 ],
 "metadata": {
  "kernelspec": {
   "display_name": "Python 3",
   "language": "python",
   "name": "python3"
  },
  "language_info": {
   "codemirror_mode": {
    "name": "ipython",
    "version": 3
   },
   "file_extension": ".py",
   "mimetype": "text/x-python",
   "name": "python",
   "nbconvert_exporter": "python",
   "pygments_lexer": "ipython3",
   "version": "3.8.3"
  }
 },
 "nbformat": 4,
 "nbformat_minor": 4
}
