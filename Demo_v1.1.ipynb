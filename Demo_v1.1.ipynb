{
 "cells": [
  {
   "cell_type": "code",
   "execution_count": 7,
   "metadata": {},
   "outputs": [],
   "source": [
    "%matplotlib inline\n",
    "import matplotlib.pyplot as plt\n",
    "import matplotlib.animation as animation\n",
    "import random\n"
   ]
  },
  {
   "cell_type": "code",
   "execution_count": 8,
   "metadata": {
    "scrolled": false
   },
   "outputs": [],
   "source": [
    "class calc:\n",
    "    def __init__(self):\n",
    "        self.tLight_rate = 12\n",
    "        \n",
    "    def CarSpeed(self, car_speed, car_loc, road_data):                \n",
    "        #기존의 roadTroll과 carSpeed를 합친 함수\n",
    "        for i in range(car_num):\n",
    "            if road_data[car_loc[i] + 3] > 0:\n",
    "                car_speed[i] = 2\n",
    "            elif road_data[car_loc[i] + 2] > 0:\n",
    "                car_speed[i] = 1\n",
    "            elif road_data[car_loc[i] + 1] > 0:\n",
    "                car_speed[i] = 1\n",
    "            else:\n",
    "                car_speed[i] = 0\n",
    "        \n",
    "        for i in range(car_num):\n",
    "            if random.randint(1,1000) <= 2:\n",
    "                if car_speed[i] ==  0:\n",
    "                    break\n",
    "                else:\n",
    "                    car_speed[i] -= 1\n",
    "                    \n",
    "    def carMove(self, car_loc, car_speed, road_data, car_num):\n",
    "        #기존의 moveCar\n",
    "        for i in range(car_num):\n",
    "            road_data[car_loc[i]] -= 1\n",
    "            car_loc[i] += car_speed[i]\n",
    "            road_data[car_loc[i]] += 1\n",
    "            \n",
    "    def road(self, tLight_state, move):\n",
    "        #기존의 trafficlight\n",
    "        if move % self.tLight_rate == 0:\n",
    "            for i in range(len(tLight_state)):\n",
    "                tLight_state[i] *= -1"
   ]
  },
  {
   "cell_type": "code",
   "execution_count": null,
   "metadata": {},
   "outputs": [],
   "source": []
  },
  {
   "cell_type": "code",
   "execution_count": null,
   "metadata": {},
   "outputs": [],
   "source": []
  },
  {
   "cell_type": "code",
   "execution_count": 1,
   "metadata": {},
   "outputs": [
    {
     "ename": "NameError",
     "evalue": "name 'animation' is not defined",
     "output_type": "error",
     "traceback": [
      "\u001b[1;31m---------------------------------------------------------------------------\u001b[0m",
      "\u001b[1;31mNameError\u001b[0m                                 Traceback (most recent call last)",
      "\u001b[1;32m<ipython-input-1-5bb23e51c1b4>\u001b[0m in \u001b[0;36m<module>\u001b[1;34m\u001b[0m\n\u001b[0;32m      8\u001b[0m     \u001b[0mroad_data\u001b[0m\u001b[1;33m[\u001b[0m\u001b[0mi\u001b[0m\u001b[1;33m]\u001b[0m \u001b[1;33m=\u001b[0m \u001b[1;36m1\u001b[0m\u001b[1;33m\u001b[0m\u001b[1;33m\u001b[0m\u001b[0m\n\u001b[0;32m      9\u001b[0m \u001b[1;33m\u001b[0m\u001b[0m\n\u001b[1;32m---> 10\u001b[1;33m \u001b[0mani\u001b[0m \u001b[1;33m=\u001b[0m \u001b[0manimation\u001b[0m\u001b[1;33m.\u001b[0m\u001b[0mFuncAnimation\u001b[0m\u001b[1;33m(\u001b[0m\u001b[0mplt\u001b[0m\u001b[1;33m.\u001b[0m\u001b[0mgcf\u001b[0m\u001b[1;33m(\u001b[0m\u001b[1;33m)\u001b[0m\u001b[1;33m,\u001b[0m \u001b[0manimate\u001b[0m\u001b[1;33m,\u001b[0m \u001b[0minterval\u001b[0m\u001b[1;33m=\u001b[0m\u001b[1;36m1000\u001b[0m\u001b[1;33m)\u001b[0m\u001b[1;33m\u001b[0m\u001b[1;33m\u001b[0m\u001b[0m\n\u001b[0m\u001b[0;32m     11\u001b[0m \u001b[0mplt\u001b[0m\u001b[1;33m.\u001b[0m\u001b[0mshow\u001b[0m\u001b[1;33m(\u001b[0m\u001b[1;33m)\u001b[0m\u001b[1;33m\u001b[0m\u001b[1;33m\u001b[0m\u001b[0m\n\u001b[0;32m     12\u001b[0m \u001b[1;33m\u001b[0m\u001b[0m\n",
      "\u001b[1;31mNameError\u001b[0m: name 'animation' is not defined"
     ]
    }
   ],
   "source": [
    "#자동차 100대, 도로 길이 2000, 신호등은 도로 250당 하나\n",
    "car_num, road_len, tLight_interval = 100, 2000, 250\n",
    "car_speed, car_loc, road_data = [0 for _ in range(car_num)],[i for i in range(car_num)],[0 for _ in range(road_len)]\n",
    "tLight_loc = [range(0, road_len-1, tLight_interval)]\n",
    "tLight_state = [1 for _ in range(len(tLight_loc))]     #1은 초록불, -1은 빨간불\n",
    "move = 0\n",
    "for i in range(0, car_num, 3):\n",
    "    road_data[i] = 1\n",
    "    \n",
    "ani = animation.FuncAnimation(plt.gcf(), animate, interval=1000)\n",
    "plt.show()\n",
    "    \n",
    "    \n"
   ]
  },
  {
   "cell_type": "code",
   "execution_count": null,
   "metadata": {},
   "outputs": [],
   "source": []
  }
 ],
 "metadata": {
  "kernelspec": {
   "display_name": "Python 3",
   "language": "python",
   "name": "python3"
  },
  "language_info": {
   "codemirror_mode": {
    "name": "ipython",
    "version": 3
   },
   "file_extension": ".py",
   "mimetype": "text/x-python",
   "name": "python",
   "nbconvert_exporter": "python",
   "pygments_lexer": "ipython3",
   "version": "3.8.3"
  }
 },
 "nbformat": 4,
 "nbformat_minor": 4
}
