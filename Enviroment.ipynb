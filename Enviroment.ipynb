{
 "cells": [
  {
   "cell_type": "code",
   "execution_count": 2,
   "metadata": {},
   "outputs": [],
   "source": [
    "%matplotlib inline\n",
    "import matplotlib.pyplot as plt\n",
    "import matplotlib.animation as animation\n",
    "import random"
   ]
  },
  {
   "cell_type": "code",
   "execution_count": 3,
   "metadata": {},
   "outputs": [
    {
     "ename": "SyntaxError",
     "evalue": "invalid syntax (<ipython-input-3-78575ebdc05b>, line 8)",
     "output_type": "error",
     "traceback": [
      "\u001b[1;36m  File \u001b[1;32m\"<ipython-input-3-78575ebdc05b>\"\u001b[1;36m, line \u001b[1;32m8\u001b[0m\n\u001b[1;33m    def carSpeed()\u001b[0m\n\u001b[1;37m                  ^\u001b[0m\n\u001b[1;31mSyntaxError\u001b[0m\u001b[1;31m:\u001b[0m invalid syntax\n"
     ]
    }
   ],
   "source": [
    "class Env:\n",
    "    def __init__(self, trollP, car_num, road_len, tLight_interval, dis, speed):\n",
    "        self.troll = trollP\n",
    "        self.num = car_num\n",
    "        self.len = road_len\n",
    "        self.interval = tLight_interval\n",
    "        self.safe_dis = dis\n",
    "        self.speedMax = speed\n",
    "        \n",
    "    def carSpeed(self, car_data):\n",
    "        for i in range(car_num):\n",
    "            if car_data[i][0] - car_data[i+1][0] >= self.safe_dis :\n",
    "                if car_data[i][1] < self.speedMax :\n",
    "                    car_data[i][1] += 1\n",
    "                else : \n",
    "                    pass\n",
    "            elif car\n",
    "            \n",
    "    def carMove()\n",
    "    def tLight()"
   ]
  },
  {
   "cell_type": "code",
   "execution_count": null,
   "metadata": {},
   "outputs": [],
   "source": [
    "class Visual"
   ]
  },
  {
   "cell_type": "code",
   "execution_count": 1,
   "metadata": {},
   "outputs": [],
   "source": [
    "car_num = 100\n",
    "road_len = 2000\n",
    "tLight_interval = 250\n",
    "car_data = [[0,0]*car_num]           #인덱스가 작을수록 앞에 있는 차, [위치, 속도]\n",
    "least_dis = 5                        #차간 안전거리\n",
    "max_speed = 3"
   ]
  }
 ],
 "metadata": {
  "kernelspec": {
   "display_name": "Python 3",
   "language": "python",
   "name": "python3"
  },
  "language_info": {
   "codemirror_mode": {
    "name": "ipython",
    "version": 3
   },
   "file_extension": ".py",
   "mimetype": "text/x-python",
   "name": "python",
   "nbconvert_exporter": "python",
   "pygments_lexer": "ipython3",
   "version": "3.8.3"
  }
 },
 "nbformat": 4,
 "nbformat_minor": 4
}
