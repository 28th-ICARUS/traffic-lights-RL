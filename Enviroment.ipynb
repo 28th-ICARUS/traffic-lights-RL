{
 "cells": [
  {
   "cell_type": "code",
   "execution_count": 27,
   "metadata": {},
   "outputs": [],
   "source": [
    "%matplotlib inline\n",
    "import matplotlib.pyplot as plt\n",
    "import matplotlib.animation as animation\n",
    "import random"
   ]
  },
  {
   "cell_type": "code",
   "execution_count": 28,
   "metadata": {},
   "outputs": [],
   "source": [
    "class Env:\n",
    "    def __init__(self):\n",
    "        self.troll = 0.02\n",
    "        self.num = 100\n",
    "        self.len = 2000\n",
    "        self.interval = 250\n",
    "        self.safe_dis = 5\n",
    "        self.speedMax = 3\n",
    "        \n",
    "    def carSpeed(self, car_data):\n",
    "        for i in range(car_num-1):\n",
    "            dis = car_data[i][0] - car_data[i+1][0]\n",
    "            if dis > self.safe_dis :\n",
    "                if car_data[i][1] < self.speedMax :\n",
    "                    car_data[i][1] += 1\n",
    "                else : \n",
    "                    pass\n",
    "            elif dis == self.safe_dis :\n",
    "                if car_data[i][1] < car_data[i+1] :\n",
    "                    car_data[i][1] += 1\n",
    "                elif car_data[i][1] > car_data[i][1] :\n",
    "                    car_data[i][1] -= 1    \n",
    "            elif dis == 0 :\n",
    "                car_data[i][1] = 0\n",
    "            else :\n",
    "                if car_data[i][1] > car_data[i+1][1] :\n",
    "                    car_data[i][1] -= 1\n",
    "                elif car_data[i][1] < car_data[i+1][1] :\n",
    "                    car_data[i][1] += 1\n",
    "\n",
    "            if randint(1,1000) <= self.troll * 1000 :\n",
    "                car_data[i][1] = 1\n",
    "\n",
    "    def carMove(self, car_data) :\n",
    "        for i in range(car_num) :\n",
    "            car_data[i][1] += car_data[i][0]\n",
    "            \n",
    "    def tLight() :\n",
    "        pass\n",
    "    \n",
    "    def reward(self, car_data) :\n",
    "        R = 0\n",
    "        for i in range(self.num) :\n",
    "            if car_data[i][1] == 3 : \n",
    "                R += 1\n",
    "            elif car_data[i][1] == 2 : \n",
    "                pass\n",
    "            elif car_data[i][1] == 1 :\n",
    "                R -= 1\n",
    "            elif car_data[i][1] == 0 :\n",
    "                R -= 4\n",
    "                \n",
    "        return R"
   ]
  },
  {
   "cell_type": "code",
   "execution_count": 1,
   "metadata": {},
   "outputs": [],
   "source": [
    "def animate(i) :\n",
    "    loc, speed = [], []\n",
    "    for i in range(len(car_data)) :\n",
    "        loc.append(car_data[i][0])\n",
    "        speed.append(3 - car_data[i][1])\n",
    "        \n",
    "    graph.clear()\n",
    "    graph.append(loc, speed)"
   ]
  },
  {
   "cell_type": "code",
   "execution_count": 2,
   "metadata": {
    "scrolled": true
   },
   "outputs": [
    {
     "ename": "NameError",
     "evalue": "name 'car_num' is not defined",
     "output_type": "error",
     "traceback": [
      "\u001b[1;31m---------------------------------------------------------------------------\u001b[0m",
      "\u001b[1;31mNameError\u001b[0m                                 Traceback (most recent call last)",
      "\u001b[1;32m<ipython-input-2-7db7fca30bcb>\u001b[0m in \u001b[0;36m<module>\u001b[1;34m\u001b[0m\n\u001b[1;32m----> 1\u001b[1;33m \u001b[0mcar_data\u001b[0m \u001b[1;33m=\u001b[0m \u001b[1;33m[\u001b[0m\u001b[1;33m[\u001b[0m\u001b[1;36m0\u001b[0m\u001b[1;33m,\u001b[0m\u001b[1;36m0\u001b[0m\u001b[1;33m]\u001b[0m\u001b[1;33m*\u001b[0m\u001b[0mcar_num\u001b[0m\u001b[1;33m]\u001b[0m           \u001b[1;31m#인덱스가 작을수록 앞에 있는 차, [위치, 속도]\u001b[0m\u001b[1;33m\u001b[0m\u001b[1;33m\u001b[0m\u001b[0m\n\u001b[0m\u001b[0;32m      2\u001b[0m \u001b[0mR\u001b[0m \u001b[1;33m=\u001b[0m \u001b[1;36m0\u001b[0m\u001b[1;33m\u001b[0m\u001b[1;33m\u001b[0m\u001b[0m\n\u001b[0;32m      3\u001b[0m \u001b[1;33m\u001b[0m\u001b[0m\n\u001b[0;32m      4\u001b[0m \u001b[0mfig\u001b[0m \u001b[1;33m=\u001b[0m \u001b[0mplt\u001b[0m\u001b[1;33m.\u001b[0m\u001b[0mfigure\u001b[0m\u001b[1;33m(\u001b[0m\u001b[1;33m)\u001b[0m\u001b[1;33m\u001b[0m\u001b[1;33m\u001b[0m\u001b[0m\n\u001b[0;32m      5\u001b[0m \u001b[0mgraph\u001b[0m \u001b[1;33m=\u001b[0m \u001b[0mfig\u001b[0m\u001b[1;33m.\u001b[0m\u001b[0madd_subplot\u001b[0m\u001b[1;33m(\u001b[0m\u001b[1;36m100\u001b[0m\u001b[1;33m,\u001b[0m \u001b[1;36m10\u001b[0m\u001b[1;33m,\u001b[0m \u001b[1;36m1\u001b[0m\u001b[1;33m)\u001b[0m\u001b[1;33m\u001b[0m\u001b[1;33m\u001b[0m\u001b[0m\n",
      "\u001b[1;31mNameError\u001b[0m: name 'car_num' is not defined"
     ]
    }
   ],
   "source": [
    "car_data = [[0,0]*car_num]           #인덱스가 작을수록 앞에 있는 차, [위치, 속도]\n",
    "R = 0\n",
    "\n",
    "fig = plt.figure()\n",
    "graph = fig.add_subplot(100, 10, 1)\n",
    "\n",
    "ani = animation.FuncAnimation(fig, animate, interval = 1000)\n",
    "plt.show()"
   ]
  },
  {
   "cell_type": "code",
   "execution_count": null,
   "metadata": {},
   "outputs": [],
   "source": []
  }
 ],
 "metadata": {
  "kernelspec": {
   "display_name": "Python 3",
   "language": "python",
   "name": "python3"
  },
  "language_info": {
   "codemirror_mode": {
    "name": "ipython",
    "version": 3
   },
   "file_extension": ".py",
   "mimetype": "text/x-python",
   "name": "python",
   "nbconvert_exporter": "python",
   "pygments_lexer": "ipython3",
   "version": "3.8.3"
  }
 },
 "nbformat": 4,
 "nbformat_minor": 4
}
